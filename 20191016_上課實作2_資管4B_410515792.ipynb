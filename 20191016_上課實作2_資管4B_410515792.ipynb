{
 "cells": [
  {
   "cell_type": "code",
   "execution_count": 1,
   "metadata": {},
   "outputs": [
    {
     "name": "stdout",
     "output_type": "stream",
     "text": [
      "請輸入成績: 98\n",
      "優等\n"
     ]
    }
   ],
   "source": [
    "score=input(\"請輸入成績: \")\n",
    "if(int(score)>=90):\n",
    "    print(\"優等\")\n",
    "elif(int(score)>80):\n",
    "    print(\"甲等\")\n",
    "elif(int(score)>70):\n",
    "    print(\"乙等\")\n",
    "elif(int(score)>60):\n",
    "    print(\"丙等\")\n",
    "else:\n",
    "    print(\"丁等\") \n",
    "     \n",
    "    \n",
    "    "
   ]
  },
  {
   "cell_type": "code",
   "execution_count": 9,
   "metadata": {},
   "outputs": [
    {
     "name": "stdout",
     "output_type": "stream",
     "text": [
      "請輸入正整數:50\n",
      "1到 50 的整數和為 1275\n"
     ]
    }
   ],
   "source": [
    "sum=0\n",
    "n = int(input(\"請輸入正整數:\"))\n",
    "for n in range(1,n+1):\n",
    "    sum += n\n",
    "print(\"1到\",n,\"的整數和為\",sum) "
   ]
  },
  {
   "cell_type": "code",
   "execution_count": 4,
   "metadata": {},
   "outputs": [
    {
     "name": "stdout",
     "output_type": "stream",
     "text": [
      "請輸入正整數:14\n",
      "1,2,3,4,6,7,8,9,11,12,13,14,"
     ]
    }
   ],
   "source": [
    "n=int(input(\"請輸入正整數:\"))\n",
    "for i in range(1, n+1):\n",
    "    if i % 5==0:\n",
    "        continue\n",
    "    print(i, end=\",\") \n",
    "    "
   ]
  },
  {
   "cell_type": "code",
   "execution_count": 6,
   "metadata": {},
   "outputs": [
    {
     "name": "stdout",
     "output_type": "stream",
     "text": [
      "請輸入正整數n的值:20\n",
      "20 != 2432902008176640000\n"
     ]
    }
   ],
   "source": [
    "a=0\n",
    "b=1\n",
    "n=int(input(\"請輸入正整數n的值:\"))\n",
    "while(a<n):\n",
    "    a=a+1\n",
    "    b=a*b\n",
    "print(n,\"!=\",b)    "
   ]
  },
  {
   "cell_type": "code",
   "execution_count": null,
   "metadata": {},
   "outputs": [],
   "source": []
  }
 ],
 "metadata": {
  "kernelspec": {
   "display_name": "Python 3",
   "language": "python",
   "name": "python3"
  },
  "language_info": {
   "codemirror_mode": {
    "name": "ipython",
    "version": 3
   },
   "file_extension": ".py",
   "mimetype": "text/x-python",
   "name": "python",
   "nbconvert_exporter": "python",
   "pygments_lexer": "ipython3",
   "version": "3.7.4"
  }
 },
 "nbformat": 4,
 "nbformat_minor": 2
}
